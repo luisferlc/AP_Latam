{
 "cells": [
  {
   "cell_type": "markdown",
   "metadata": {},
   "source": [
    "# AP Latam - Prueba Técnica\n",
    "\n",
    "_Luis Fernando López Corarles_\n",
    "\n",
    "---"
   ]
  },
  {
   "cell_type": "code",
   "execution_count": 6,
   "metadata": {},
   "outputs": [],
   "source": [
    "import pandas as pd"
   ]
  },
  {
   "cell_type": "markdown",
   "metadata": {},
   "source": [
    "#### Leyendo los datos de características del programa"
   ]
  },
  {
   "cell_type": "code",
   "execution_count": 11,
   "metadata": {},
   "outputs": [],
   "source": [
    "carac_programa=pd.read_excel('C:/Users/luisf/Documents/Python Projects/APLatam/Diagnostico de capacidades analiticas.xlsx', \\\n",
    "                sheet_name = 2, header = 4, nrows=17,index_col=1)\n",
    "carac_programa=carac_programa.drop(columns='Unnamed: 0')"
   ]
  },
  {
   "cell_type": "code",
   "execution_count": 12,
   "metadata": {},
   "outputs": [
    {
     "data": {
      "text/html": [
       "<div>\n",
       "<style scoped>\n",
       "    .dataframe tbody tr th:only-of-type {\n",
       "        vertical-align: middle;\n",
       "    }\n",
       "\n",
       "    .dataframe tbody tr th {\n",
       "        vertical-align: top;\n",
       "    }\n",
       "\n",
       "    .dataframe thead th {\n",
       "        text-align: right;\n",
       "    }\n",
       "</style>\n",
       "<table border=\"1\" class=\"dataframe\">\n",
       "  <thead>\n",
       "    <tr style=\"text-align: right;\">\n",
       "      <th></th>\n",
       "      <th>Diplomado en Big Data</th>\n",
       "      <th>Diplomado en Business Intelligence</th>\n",
       "      <th>Maestria en Ciencias de Datos</th>\n",
       "      <th>Diplomado en Business Analytics</th>\n",
       "      <th>Maestria en Estrategia Cuantitativa</th>\n",
       "    </tr>\n",
       "  </thead>\n",
       "  <tbody>\n",
       "    <tr>\n",
       "      <th>Número de materias</th>\n",
       "      <td>5</td>\n",
       "      <td>5</td>\n",
       "      <td>18</td>\n",
       "      <td>5</td>\n",
       "      <td>18</td>\n",
       "    </tr>\n",
       "    <tr>\n",
       "      <th>Precio por materia</th>\n",
       "      <td>10000</td>\n",
       "      <td>12000</td>\n",
       "      <td>10000</td>\n",
       "      <td>8000</td>\n",
       "      <td>12000</td>\n",
       "    </tr>\n",
       "    <tr>\n",
       "      <th>Estudiantes activos en el pais en programas similares (presencial)</th>\n",
       "      <td>25000</td>\n",
       "      <td>15000</td>\n",
       "      <td>5000</td>\n",
       "      <td>30000</td>\n",
       "      <td>4200</td>\n",
       "    </tr>\n",
       "    <tr>\n",
       "      <th>Estudiantes activos en la universidad (presencial)</th>\n",
       "      <td>100</td>\n",
       "      <td>200</td>\n",
       "      <td>900</td>\n",
       "      <td>500</td>\n",
       "      <td>80</td>\n",
       "    </tr>\n",
       "    <tr>\n",
       "      <th>Estudiantes históricos totales en la universidad (presencial)</th>\n",
       "      <td>1200</td>\n",
       "      <td>300</td>\n",
       "      <td>6200</td>\n",
       "      <td>15000</td>\n",
       "      <td>100</td>\n",
       "    </tr>\n",
       "    <tr>\n",
       "      <th>Porcentaje de alumnos titulados</th>\n",
       "      <td>0.8</td>\n",
       "      <td>1</td>\n",
       "      <td>0.6</td>\n",
       "      <td>0.88</td>\n",
       "      <td>1</td>\n",
       "    </tr>\n",
       "    <tr>\n",
       "      <th>Reputación de la universidad en el programa</th>\n",
       "      <td>Buena</td>\n",
       "      <td>NaN</td>\n",
       "      <td>Media</td>\n",
       "      <td>Muy Buena</td>\n",
       "      <td>Mala</td>\n",
       "    </tr>\n",
       "    <tr>\n",
       "      <th>Número de competidores que imparten el programa</th>\n",
       "      <td>8</td>\n",
       "      <td>3</td>\n",
       "      <td>5</td>\n",
       "      <td>4</td>\n",
       "      <td>1</td>\n",
       "    </tr>\n",
       "    <tr>\n",
       "      <th>Número de competidores directos</th>\n",
       "      <td>0</td>\n",
       "      <td>3</td>\n",
       "      <td>1</td>\n",
       "      <td>4</td>\n",
       "      <td>0</td>\n",
       "    </tr>\n",
       "    <tr>\n",
       "      <th>Grado de busquedas por un tema similar</th>\n",
       "      <td>Alta</td>\n",
       "      <td>Alta</td>\n",
       "      <td>Alta</td>\n",
       "      <td>Alta</td>\n",
       "      <td>Alta</td>\n",
       "    </tr>\n",
       "    <tr>\n",
       "      <th>Grado de busquedas en linea por el programa</th>\n",
       "      <td>Baja</td>\n",
       "      <td>Media</td>\n",
       "      <td>Baja</td>\n",
       "      <td>Alta</td>\n",
       "      <td>Baja</td>\n",
       "    </tr>\n",
       "    <tr>\n",
       "      <th>Grado de busquedas en linea por el programa en modalidad online</th>\n",
       "      <td>Alta</td>\n",
       "      <td>Baja</td>\n",
       "      <td>NaN</td>\n",
       "      <td>Alta</td>\n",
       "      <td>Alta</td>\n",
       "    </tr>\n",
       "    <tr>\n",
       "      <th>Tendencia de los ultimos 3 meses</th>\n",
       "      <td>Estable</td>\n",
       "      <td>Estable</td>\n",
       "      <td>Estable</td>\n",
       "      <td>A la baja</td>\n",
       "      <td>En crecimiento</td>\n",
       "    </tr>\n",
       "    <tr>\n",
       "      <th>Tendencia de los ultimos 6 meses</th>\n",
       "      <td>En crecimiento</td>\n",
       "      <td>En crecimiento</td>\n",
       "      <td>A la baja</td>\n",
       "      <td>Estable</td>\n",
       "      <td>En crecimiento</td>\n",
       "    </tr>\n",
       "    <tr>\n",
       "      <th>Tendencia de los ultimos 12 meses</th>\n",
       "      <td>En crecimiento</td>\n",
       "      <td>Estable</td>\n",
       "      <td>En crecimiento</td>\n",
       "      <td>En crecimiento</td>\n",
       "      <td>En crecimiento</td>\n",
       "    </tr>\n",
       "    <tr>\n",
       "      <th>Tendencia de los ultimos 5 años</th>\n",
       "      <td>En crecimiento</td>\n",
       "      <td>En crecimiento</td>\n",
       "      <td>En crecimiento</td>\n",
       "      <td>En crecimiento</td>\n",
       "      <td>En crecimiento</td>\n",
       "    </tr>\n",
       "    <tr>\n",
       "      <th>Numero de vacantes en la bolsa de trabajo de la universidad</th>\n",
       "      <td>10</td>\n",
       "      <td>15</td>\n",
       "      <td>50</td>\n",
       "      <td>100</td>\n",
       "      <td>35</td>\n",
       "    </tr>\n",
       "  </tbody>\n",
       "</table>\n",
       "</div>"
      ],
      "text/plain": [
       "                                                   Diplomado en Big Data  \\\n",
       "Número de materias                                                     5   \n",
       "Precio por materia                                                 10000   \n",
       "Estudiantes activos en el pais en programas sim...                 25000   \n",
       "Estudiantes activos en la universidad (presencial)                   100   \n",
       "Estudiantes históricos totales en la universida...                  1200   \n",
       "Porcentaje de alumnos titulados                                      0.8   \n",
       "Reputación de la universidad en el programa                        Buena   \n",
       "Número de competidores que imparten el programa                        8   \n",
       "Número de competidores directos                                        0   \n",
       "Grado de busquedas por un tema similar                              Alta   \n",
       "Grado de busquedas en linea por el programa                         Baja   \n",
       "Grado de busquedas en linea por el programa en ...                  Alta   \n",
       "Tendencia de los ultimos 3 meses                                 Estable   \n",
       "Tendencia de los ultimos 6 meses                          En crecimiento   \n",
       "Tendencia de los ultimos 12 meses                         En crecimiento   \n",
       "Tendencia de los ultimos 5 años                           En crecimiento   \n",
       "Numero de vacantes en la bolsa de trabajo de la...                    10   \n",
       "\n",
       "                                                   Diplomado en Business Intelligence  \\\n",
       "Número de materias                                                                  5   \n",
       "Precio por materia                                                              12000   \n",
       "Estudiantes activos en el pais en programas sim...                              15000   \n",
       "Estudiantes activos en la universidad (presencial)                                200   \n",
       "Estudiantes históricos totales en la universida...                                300   \n",
       "Porcentaje de alumnos titulados                                                     1   \n",
       "Reputación de la universidad en el programa                                       NaN   \n",
       "Número de competidores que imparten el programa                                     3   \n",
       "Número de competidores directos                                                     3   \n",
       "Grado de busquedas por un tema similar                                           Alta   \n",
       "Grado de busquedas en linea por el programa                                     Media   \n",
       "Grado de busquedas en linea por el programa en ...                               Baja   \n",
       "Tendencia de los ultimos 3 meses                                              Estable   \n",
       "Tendencia de los ultimos 6 meses                                       En crecimiento   \n",
       "Tendencia de los ultimos 12 meses                                             Estable   \n",
       "Tendencia de los ultimos 5 años                                        En crecimiento   \n",
       "Numero de vacantes en la bolsa de trabajo de la...                                 15   \n",
       "\n",
       "                                                   Maestria en Ciencias de Datos  \\\n",
       "Número de materias                                                            18   \n",
       "Precio por materia                                                         10000   \n",
       "Estudiantes activos en el pais en programas sim...                          5000   \n",
       "Estudiantes activos en la universidad (presencial)                           900   \n",
       "Estudiantes históricos totales en la universida...                          6200   \n",
       "Porcentaje de alumnos titulados                                              0.6   \n",
       "Reputación de la universidad en el programa                                Media   \n",
       "Número de competidores que imparten el programa                                5   \n",
       "Número de competidores directos                                                1   \n",
       "Grado de busquedas por un tema similar                                      Alta   \n",
       "Grado de busquedas en linea por el programa                                 Baja   \n",
       "Grado de busquedas en linea por el programa en ...                           NaN   \n",
       "Tendencia de los ultimos 3 meses                                         Estable   \n",
       "Tendencia de los ultimos 6 meses                                       A la baja   \n",
       "Tendencia de los ultimos 12 meses                                 En crecimiento   \n",
       "Tendencia de los ultimos 5 años                                   En crecimiento   \n",
       "Numero de vacantes en la bolsa de trabajo de la...                            50   \n",
       "\n",
       "                                                   Diplomado en Business Analytics  \\\n",
       "Número de materias                                                               5   \n",
       "Precio por materia                                                            8000   \n",
       "Estudiantes activos en el pais en programas sim...                           30000   \n",
       "Estudiantes activos en la universidad (presencial)                             500   \n",
       "Estudiantes históricos totales en la universida...                           15000   \n",
       "Porcentaje de alumnos titulados                                               0.88   \n",
       "Reputación de la universidad en el programa                              Muy Buena   \n",
       "Número de competidores que imparten el programa                                  4   \n",
       "Número de competidores directos                                                  4   \n",
       "Grado de busquedas por un tema similar                                        Alta   \n",
       "Grado de busquedas en linea por el programa                                   Alta   \n",
       "Grado de busquedas en linea por el programa en ...                            Alta   \n",
       "Tendencia de los ultimos 3 meses                                         A la baja   \n",
       "Tendencia de los ultimos 6 meses                                           Estable   \n",
       "Tendencia de los ultimos 12 meses                                   En crecimiento   \n",
       "Tendencia de los ultimos 5 años                                     En crecimiento   \n",
       "Numero de vacantes en la bolsa de trabajo de la...                             100   \n",
       "\n",
       "                                                   Maestria en Estrategia Cuantitativa  \n",
       "Número de materias                                                                  18  \n",
       "Precio por materia                                                               12000  \n",
       "Estudiantes activos en el pais en programas sim...                                4200  \n",
       "Estudiantes activos en la universidad (presencial)                                  80  \n",
       "Estudiantes históricos totales en la universida...                                 100  \n",
       "Porcentaje de alumnos titulados                                                      1  \n",
       "Reputación de la universidad en el programa                                       Mala  \n",
       "Número de competidores que imparten el programa                                      1  \n",
       "Número de competidores directos                                                      0  \n",
       "Grado de busquedas por un tema similar                                            Alta  \n",
       "Grado de busquedas en linea por el programa                                       Baja  \n",
       "Grado de busquedas en linea por el programa en ...                                Alta  \n",
       "Tendencia de los ultimos 3 meses                                        En crecimiento  \n",
       "Tendencia de los ultimos 6 meses                                        En crecimiento  \n",
       "Tendencia de los ultimos 12 meses                                       En crecimiento  \n",
       "Tendencia de los ultimos 5 años                                         En crecimiento  \n",
       "Numero de vacantes en la bolsa de trabajo de la...                                  35  "
      ]
     },
     "execution_count": 12,
     "metadata": {},
     "output_type": "execute_result"
    }
   ],
   "source": [
    "carac_programa #Estas son las características del programa"
   ]
  },
  {
   "cell_type": "markdown",
   "metadata": {},
   "source": [
    "#### Transformando la estructura del dataset"
   ]
  },
  {
   "cell_type": "code",
   "execution_count": 4,
   "metadata": {
    "scrolled": true
   },
   "outputs": [],
   "source": [
    "carac_programa=carac_programa.T.reset_index().rename(columns={'index':'Programa'})"
   ]
  },
  {
   "cell_type": "code",
   "execution_count": 6,
   "metadata": {},
   "outputs": [
    {
     "data": {
      "text/html": [
       "<div>\n",
       "<style scoped>\n",
       "    .dataframe tbody tr th:only-of-type {\n",
       "        vertical-align: middle;\n",
       "    }\n",
       "\n",
       "    .dataframe tbody tr th {\n",
       "        vertical-align: top;\n",
       "    }\n",
       "\n",
       "    .dataframe thead th {\n",
       "        text-align: right;\n",
       "    }\n",
       "</style>\n",
       "<table border=\"1\" class=\"dataframe\">\n",
       "  <thead>\n",
       "    <tr style=\"text-align: right;\">\n",
       "      <th></th>\n",
       "      <th>Programa</th>\n",
       "      <th>Número de materias</th>\n",
       "      <th>Precio por materia</th>\n",
       "      <th>Estudiantes activos en el pais en programas similares (presencial)</th>\n",
       "      <th>Estudiantes activos en la universidad (presencial)</th>\n",
       "      <th>Estudiantes históricos totales en la universidad (presencial)</th>\n",
       "      <th>Porcentaje de alumnos titulados</th>\n",
       "      <th>Reputación de la universidad en el programa</th>\n",
       "      <th>Número de competidores que imparten el programa</th>\n",
       "      <th>Número de competidores directos</th>\n",
       "      <th>Grado de busquedas por un tema similar</th>\n",
       "      <th>Grado de busquedas en linea por el programa</th>\n",
       "      <th>Grado de busquedas en linea por el programa en modalidad online</th>\n",
       "      <th>Tendencia de los ultimos 3 meses</th>\n",
       "      <th>Tendencia de los ultimos 6 meses</th>\n",
       "      <th>Tendencia de los ultimos 12 meses</th>\n",
       "      <th>Tendencia de los ultimos 5 años</th>\n",
       "      <th>Numero de vacantes en la bolsa de trabajo de la universidad</th>\n",
       "    </tr>\n",
       "  </thead>\n",
       "  <tbody>\n",
       "    <tr>\n",
       "      <th>0</th>\n",
       "      <td>Diplomado en Big Data</td>\n",
       "      <td>5</td>\n",
       "      <td>10000</td>\n",
       "      <td>25000</td>\n",
       "      <td>100</td>\n",
       "      <td>1200</td>\n",
       "      <td>0.8</td>\n",
       "      <td>Buena</td>\n",
       "      <td>8</td>\n",
       "      <td>0</td>\n",
       "      <td>Alta</td>\n",
       "      <td>Baja</td>\n",
       "      <td>Alta</td>\n",
       "      <td>Estable</td>\n",
       "      <td>En crecimiento</td>\n",
       "      <td>En crecimiento</td>\n",
       "      <td>En crecimiento</td>\n",
       "      <td>10</td>\n",
       "    </tr>\n",
       "    <tr>\n",
       "      <th>1</th>\n",
       "      <td>Diplomado en Business Intelligence</td>\n",
       "      <td>5</td>\n",
       "      <td>12000</td>\n",
       "      <td>15000</td>\n",
       "      <td>200</td>\n",
       "      <td>300</td>\n",
       "      <td>1</td>\n",
       "      <td>NaN</td>\n",
       "      <td>3</td>\n",
       "      <td>3</td>\n",
       "      <td>Alta</td>\n",
       "      <td>Media</td>\n",
       "      <td>Baja</td>\n",
       "      <td>Estable</td>\n",
       "      <td>En crecimiento</td>\n",
       "      <td>Estable</td>\n",
       "      <td>En crecimiento</td>\n",
       "      <td>15</td>\n",
       "    </tr>\n",
       "    <tr>\n",
       "      <th>2</th>\n",
       "      <td>Maestria en Ciencias de Datos</td>\n",
       "      <td>18</td>\n",
       "      <td>10000</td>\n",
       "      <td>5000</td>\n",
       "      <td>900</td>\n",
       "      <td>6200</td>\n",
       "      <td>0.6</td>\n",
       "      <td>Media</td>\n",
       "      <td>5</td>\n",
       "      <td>1</td>\n",
       "      <td>Alta</td>\n",
       "      <td>Baja</td>\n",
       "      <td>NaN</td>\n",
       "      <td>Estable</td>\n",
       "      <td>A la baja</td>\n",
       "      <td>En crecimiento</td>\n",
       "      <td>En crecimiento</td>\n",
       "      <td>50</td>\n",
       "    </tr>\n",
       "    <tr>\n",
       "      <th>3</th>\n",
       "      <td>Diplomado en Business Analytics</td>\n",
       "      <td>5</td>\n",
       "      <td>8000</td>\n",
       "      <td>30000</td>\n",
       "      <td>500</td>\n",
       "      <td>15000</td>\n",
       "      <td>0.88</td>\n",
       "      <td>Muy Buena</td>\n",
       "      <td>4</td>\n",
       "      <td>4</td>\n",
       "      <td>Alta</td>\n",
       "      <td>Alta</td>\n",
       "      <td>Alta</td>\n",
       "      <td>A la baja</td>\n",
       "      <td>Estable</td>\n",
       "      <td>En crecimiento</td>\n",
       "      <td>En crecimiento</td>\n",
       "      <td>100</td>\n",
       "    </tr>\n",
       "    <tr>\n",
       "      <th>4</th>\n",
       "      <td>Maestria en Estrategia Cuantitativa</td>\n",
       "      <td>18</td>\n",
       "      <td>12000</td>\n",
       "      <td>4200</td>\n",
       "      <td>80</td>\n",
       "      <td>100</td>\n",
       "      <td>1</td>\n",
       "      <td>Mala</td>\n",
       "      <td>1</td>\n",
       "      <td>0</td>\n",
       "      <td>Alta</td>\n",
       "      <td>Baja</td>\n",
       "      <td>Alta</td>\n",
       "      <td>En crecimiento</td>\n",
       "      <td>En crecimiento</td>\n",
       "      <td>En crecimiento</td>\n",
       "      <td>En crecimiento</td>\n",
       "      <td>35</td>\n",
       "    </tr>\n",
       "  </tbody>\n",
       "</table>\n",
       "</div>"
      ],
      "text/plain": [
       "                              Programa Número de materias Precio por materia  \\\n",
       "0                Diplomado en Big Data                  5              10000   \n",
       "1   Diplomado en Business Intelligence                  5              12000   \n",
       "2        Maestria en Ciencias de Datos                 18              10000   \n",
       "3      Diplomado en Business Analytics                  5               8000   \n",
       "4  Maestria en Estrategia Cuantitativa                 18              12000   \n",
       "\n",
       "  Estudiantes activos en el pais en programas similares (presencial)  \\\n",
       "0                                              25000                   \n",
       "1                                              15000                   \n",
       "2                                               5000                   \n",
       "3                                              30000                   \n",
       "4                                               4200                   \n",
       "\n",
       "  Estudiantes activos en la universidad (presencial)  \\\n",
       "0                                                100   \n",
       "1                                                200   \n",
       "2                                                900   \n",
       "3                                                500   \n",
       "4                                                 80   \n",
       "\n",
       "  Estudiantes históricos totales en la universidad (presencial)  \\\n",
       "0                                               1200              \n",
       "1                                                300              \n",
       "2                                               6200              \n",
       "3                                              15000              \n",
       "4                                                100              \n",
       "\n",
       "  Porcentaje de alumnos titulados Reputación de la universidad en el programa  \\\n",
       "0                             0.8                                       Buena   \n",
       "1                               1                                         NaN   \n",
       "2                             0.6                                       Media   \n",
       "3                            0.88                                   Muy Buena   \n",
       "4                               1                                        Mala   \n",
       "\n",
       "  Número de competidores que imparten el programa  \\\n",
       "0                                               8   \n",
       "1                                               3   \n",
       "2                                               5   \n",
       "3                                               4   \n",
       "4                                               1   \n",
       "\n",
       "  Número de competidores directos  Grado de busquedas por un tema similar  \\\n",
       "0                                0                                   Alta   \n",
       "1                                3                                   Alta   \n",
       "2                                1                                   Alta   \n",
       "3                                4                                   Alta   \n",
       "4                                0                                   Alta   \n",
       "\n",
       "  Grado de busquedas en linea por el programa  \\\n",
       "0                                        Baja   \n",
       "1                                       Media   \n",
       "2                                        Baja   \n",
       "3                                        Alta   \n",
       "4                                        Baja   \n",
       "\n",
       "  Grado de busquedas en linea por el programa en modalidad online  \\\n",
       "0                                               Alta                \n",
       "1                                               Baja                \n",
       "2                                                NaN                \n",
       "3                                               Alta                \n",
       "4                                               Alta                \n",
       "\n",
       "  Tendencia de los ultimos 3 meses Tendencia de los ultimos 6 meses  \\\n",
       "0                          Estable                   En crecimiento   \n",
       "1                          Estable                   En crecimiento   \n",
       "2                          Estable                        A la baja   \n",
       "3                        A la baja                          Estable   \n",
       "4                   En crecimiento                   En crecimiento   \n",
       "\n",
       "  Tendencia de los ultimos 12 meses Tendencia de los ultimos 5 años  \\\n",
       "0                    En crecimiento                  En crecimiento   \n",
       "1                           Estable                  En crecimiento   \n",
       "2                    En crecimiento                  En crecimiento   \n",
       "3                    En crecimiento                  En crecimiento   \n",
       "4                    En crecimiento                  En crecimiento   \n",
       "\n",
       "  Numero de vacantes en la bolsa de trabajo de la universidad  \n",
       "0                                                 10           \n",
       "1                                                 15           \n",
       "2                                                 50           \n",
       "3                                                100           \n",
       "4                                                 35           "
      ]
     },
     "execution_count": 6,
     "metadata": {},
     "output_type": "execute_result"
    }
   ],
   "source": [
    "carac_programa"
   ]
  },
  {
   "cell_type": "code",
   "execution_count": 10,
   "metadata": {},
   "outputs": [],
   "source": [
    "#carac_programa.to_excel('carac_programa.xls',index=False)"
   ]
  },
  {
   "cell_type": "markdown",
   "metadata": {},
   "source": [
    "---"
   ]
  },
  {
   "cell_type": "markdown",
   "metadata": {},
   "source": [
    "## Visualización con Tableau\n",
    "Características del programa"
   ]
  },
  {
   "cell_type": "markdown",
   "metadata": {},
   "source": [
    "#### Variables cualitativas"
   ]
  },
  {
   "cell_type": "code",
   "execution_count": 5,
   "metadata": {},
   "outputs": [
    {
     "data": {
      "text/html": [
       "<div class='tableauPlaceholder' id='viz1597853070201' style='position: relative'><noscript><a href='#'><img alt=' ' src='https:&#47;&#47;public.tableau.com&#47;static&#47;images&#47;ap&#47;aplatam&#47;cualiss&#47;1_rss.png' style='border: none' /></a></noscript><object class='tableauViz'  style='display:none;'><param name='host_url' value='https%3A%2F%2Fpublic.tableau.com%2F' /> <param name='embed_code_version' value='3' /> <param name='site_root' value='' /><param name='name' value='aplatam&#47;cualiss' /><param name='tabs' value='no' /><param name='toolbar' value='yes' /><param name='static_image' value='https:&#47;&#47;public.tableau.com&#47;static&#47;images&#47;ap&#47;aplatam&#47;cualiss&#47;1.png' /> <param name='animate_transition' value='yes' /><param name='display_static_image' value='yes' /><param name='display_spinner' value='yes' /><param name='display_overlay' value='yes' /><param name='display_count' value='yes' /><param name='language' value='es' /><param name='filter' value='publish=yes' /></object></div>                <script type='text/javascript'>                    var divElement = document.getElementById('viz1597853070201');                    var vizElement = divElement.getElementsByTagName('object')[0];                    if ( divElement.offsetWidth > 800 ) { vizElement.style.minWidth='420px';vizElement.style.maxWidth='2150px';vizElement.style.width='100%';vizElement.style.minHeight='587px';vizElement.style.maxHeight='2287px';vizElement.style.height=(divElement.offsetWidth*0.75)+'px';} else if ( divElement.offsetWidth > 500 ) { vizElement.style.minWidth='420px';vizElement.style.maxWidth='2150px';vizElement.style.width='100%';vizElement.style.minHeight='587px';vizElement.style.maxHeight='2287px';vizElement.style.height=(divElement.offsetWidth*0.75)+'px';} else { vizElement.style.width='100%';vizElement.style.height='2377px';}                     var scriptElement = document.createElement('script');                    scriptElement.src = 'https://public.tableau.com/javascripts/api/viz_v1.js';                    vizElement.parentNode.insertBefore(scriptElement, vizElement);                </script>\n"
      ],
      "text/plain": [
       "<IPython.core.display.HTML object>"
      ]
     },
     "metadata": {},
     "output_type": "display_data"
    }
   ],
   "source": [
    "%%HTML\n",
    "<div class='tableauPlaceholder' id='viz1597853070201' style='position: relative'><noscript><a href='#'><img alt=' ' src='https:&#47;&#47;public.tableau.com&#47;static&#47;images&#47;ap&#47;aplatam&#47;cualiss&#47;1_rss.png' style='border: none' /></a></noscript><object class='tableauViz'  style='display:none;'><param name='host_url' value='https%3A%2F%2Fpublic.tableau.com%2F' /> <param name='embed_code_version' value='3' /> <param name='site_root' value='' /><param name='name' value='aplatam&#47;cualiss' /><param name='tabs' value='no' /><param name='toolbar' value='yes' /><param name='static_image' value='https:&#47;&#47;public.tableau.com&#47;static&#47;images&#47;ap&#47;aplatam&#47;cualiss&#47;1.png' /> <param name='animate_transition' value='yes' /><param name='display_static_image' value='yes' /><param name='display_spinner' value='yes' /><param name='display_overlay' value='yes' /><param name='display_count' value='yes' /><param name='language' value='es' /><param name='filter' value='publish=yes' /></object></div>                <script type='text/javascript'>                    var divElement = document.getElementById('viz1597853070201');                    var vizElement = divElement.getElementsByTagName('object')[0];                    if ( divElement.offsetWidth > 800 ) { vizElement.style.minWidth='420px';vizElement.style.maxWidth='2150px';vizElement.style.width='100%';vizElement.style.minHeight='587px';vizElement.style.maxHeight='2287px';vizElement.style.height=(divElement.offsetWidth*0.75)+'px';} else if ( divElement.offsetWidth > 500 ) { vizElement.style.minWidth='420px';vizElement.style.maxWidth='2150px';vizElement.style.width='100%';vizElement.style.minHeight='587px';vizElement.style.maxHeight='2287px';vizElement.style.height=(divElement.offsetWidth*0.75)+'px';} else { vizElement.style.width='100%';vizElement.style.height='2377px';}                     var scriptElement = document.createElement('script');                    scriptElement.src = 'https://public.tableau.com/javascripts/api/viz_v1.js';                    vizElement.parentNode.insertBefore(scriptElement, vizElement);                </script>"
   ]
  },
  {
   "cell_type": "markdown",
   "metadata": {},
   "source": [
    "#### Variables cuantitativas"
   ]
  },
  {
   "cell_type": "code",
   "execution_count": 3,
   "metadata": {},
   "outputs": [
    {
     "data": {
      "text/html": [
       "<div class='tableauPlaceholder' id='viz1597852654699' style='position: relative'><noscript><a href='#'><img alt=' ' src='https:&#47;&#47;public.tableau.com&#47;static&#47;images&#47;ap&#47;aplatam&#47;cuantis1&#47;1_rss.png' style='border: none' /></a></noscript><object class='tableauViz'  style='display:none;'><param name='host_url' value='https%3A%2F%2Fpublic.tableau.com%2F' /> <param name='embed_code_version' value='3' /> <param name='site_root' value='' /><param name='name' value='aplatam&#47;cuantis1' /><param name='tabs' value='no' /><param name='toolbar' value='yes' /><param name='static_image' value='https:&#47;&#47;public.tableau.com&#47;static&#47;images&#47;ap&#47;aplatam&#47;cuantis1&#47;1.png' /> <param name='animate_transition' value='yes' /><param name='display_static_image' value='yes' /><param name='display_spinner' value='yes' /><param name='display_overlay' value='yes' /><param name='display_count' value='yes' /><param name='language' value='es' /><param name='filter' value='publish=yes' /></object></div>                <script type='text/javascript'>                    var divElement = document.getElementById('viz1597852654699');                    var vizElement = divElement.getElementsByTagName('object')[0];                    if ( divElement.offsetWidth > 800 ) { vizElement.style.minWidth='420px';vizElement.style.maxWidth='1750px';vizElement.style.width='100%';vizElement.style.minHeight='587px';vizElement.style.maxHeight='1987px';vizElement.style.height=(divElement.offsetWidth*0.75)+'px';} else if ( divElement.offsetWidth > 500 ) { vizElement.style.minWidth='420px';vizElement.style.maxWidth='1750px';vizElement.style.width='100%';vizElement.style.minHeight='587px';vizElement.style.maxHeight='1987px';vizElement.style.height=(divElement.offsetWidth*0.75)+'px';} else { vizElement.style.width='100%';vizElement.style.height='927px';}                     var scriptElement = document.createElement('script');                    scriptElement.src = 'https://public.tableau.com/javascripts/api/viz_v1.js';                    vizElement.parentNode.insertBefore(scriptElement, vizElement);                </script>\n"
      ],
      "text/plain": [
       "<IPython.core.display.HTML object>"
      ]
     },
     "metadata": {},
     "output_type": "display_data"
    }
   ],
   "source": [
    "%%HTML\n",
    "<div class='tableauPlaceholder' id='viz1597852654699' style='position: relative'><noscript><a href='#'><img alt=' ' src='https:&#47;&#47;public.tableau.com&#47;static&#47;images&#47;ap&#47;aplatam&#47;cuantis1&#47;1_rss.png' style='border: none' /></a></noscript><object class='tableauViz'  style='display:none;'><param name='host_url' value='https%3A%2F%2Fpublic.tableau.com%2F' /> <param name='embed_code_version' value='3' /> <param name='site_root' value='' /><param name='name' value='aplatam&#47;cuantis1' /><param name='tabs' value='no' /><param name='toolbar' value='yes' /><param name='static_image' value='https:&#47;&#47;public.tableau.com&#47;static&#47;images&#47;ap&#47;aplatam&#47;cuantis1&#47;1.png' /> <param name='animate_transition' value='yes' /><param name='display_static_image' value='yes' /><param name='display_spinner' value='yes' /><param name='display_overlay' value='yes' /><param name='display_count' value='yes' /><param name='language' value='es' /><param name='filter' value='publish=yes' /></object></div>                <script type='text/javascript'>                    var divElement = document.getElementById('viz1597852654699');                    var vizElement = divElement.getElementsByTagName('object')[0];                    if ( divElement.offsetWidth > 800 ) { vizElement.style.minWidth='420px';vizElement.style.maxWidth='1750px';vizElement.style.width='100%';vizElement.style.minHeight='587px';vizElement.style.maxHeight='1987px';vizElement.style.height=(divElement.offsetWidth*0.75)+'px';} else if ( divElement.offsetWidth > 500 ) { vizElement.style.minWidth='420px';vizElement.style.maxWidth='1750px';vizElement.style.width='100%';vizElement.style.minHeight='587px';vizElement.style.maxHeight='1987px';vizElement.style.height=(divElement.offsetWidth*0.75)+'px';} else { vizElement.style.width='100%';vizElement.style.height='927px';}                     var scriptElement = document.createElement('script');                    scriptElement.src = 'https://public.tableau.com/javascripts/api/viz_v1.js';                    vizElement.parentNode.insertBefore(scriptElement, vizElement);                </script>"
   ]
  },
  {
   "cell_type": "code",
   "execution_count": 4,
   "metadata": {},
   "outputs": [
    {
     "data": {
      "text/html": [
       "<div class='tableauPlaceholder' id='viz1597852722994' style='position: relative'><noscript><a href='#'><img alt=' ' src='https:&#47;&#47;public.tableau.com&#47;static&#47;images&#47;ap&#47;aplatam&#47;cuantis2&#47;1_rss.png' style='border: none' /></a></noscript><object class='tableauViz'  style='display:none;'><param name='host_url' value='https%3A%2F%2Fpublic.tableau.com%2F' /> <param name='embed_code_version' value='3' /> <param name='site_root' value='' /><param name='name' value='aplatam&#47;cuantis2' /><param name='tabs' value='no' /><param name='toolbar' value='yes' /><param name='static_image' value='https:&#47;&#47;public.tableau.com&#47;static&#47;images&#47;ap&#47;aplatam&#47;cuantis2&#47;1.png' /> <param name='animate_transition' value='yes' /><param name='display_static_image' value='yes' /><param name='display_spinner' value='yes' /><param name='display_overlay' value='yes' /><param name='display_count' value='yes' /><param name='language' value='es' /></object></div>                <script type='text/javascript'>                    var divElement = document.getElementById('viz1597852722994');                    var vizElement = divElement.getElementsByTagName('object')[0];                    if ( divElement.offsetWidth > 800 ) { vizElement.style.minWidth='420px';vizElement.style.maxWidth='1250px';vizElement.style.width='100%';vizElement.style.minHeight='587px';vizElement.style.maxHeight='887px';vizElement.style.height=(divElement.offsetWidth*0.75)+'px';} else if ( divElement.offsetWidth > 500 ) { vizElement.style.minWidth='420px';vizElement.style.maxWidth='1250px';vizElement.style.width='100%';vizElement.style.minHeight='587px';vizElement.style.maxHeight='887px';vizElement.style.height=(divElement.offsetWidth*0.75)+'px';} else { vizElement.style.width='100%';vizElement.style.height='727px';}                     var scriptElement = document.createElement('script');                    scriptElement.src = 'https://public.tableau.com/javascripts/api/viz_v1.js';                    vizElement.parentNode.insertBefore(scriptElement, vizElement);                </script>\n"
      ],
      "text/plain": [
       "<IPython.core.display.HTML object>"
      ]
     },
     "metadata": {},
     "output_type": "display_data"
    }
   ],
   "source": [
    "%%HTML\n",
    "<div class='tableauPlaceholder' id='viz1597852722994' style='position: relative'><noscript><a href='#'><img alt=' ' src='https:&#47;&#47;public.tableau.com&#47;static&#47;images&#47;ap&#47;aplatam&#47;cuantis2&#47;1_rss.png' style='border: none' /></a></noscript><object class='tableauViz'  style='display:none;'><param name='host_url' value='https%3A%2F%2Fpublic.tableau.com%2F' /> <param name='embed_code_version' value='3' /> <param name='site_root' value='' /><param name='name' value='aplatam&#47;cuantis2' /><param name='tabs' value='no' /><param name='toolbar' value='yes' /><param name='static_image' value='https:&#47;&#47;public.tableau.com&#47;static&#47;images&#47;ap&#47;aplatam&#47;cuantis2&#47;1.png' /> <param name='animate_transition' value='yes' /><param name='display_static_image' value='yes' /><param name='display_spinner' value='yes' /><param name='display_overlay' value='yes' /><param name='display_count' value='yes' /><param name='language' value='es' /></object></div>                <script type='text/javascript'>                    var divElement = document.getElementById('viz1597852722994');                    var vizElement = divElement.getElementsByTagName('object')[0];                    if ( divElement.offsetWidth > 800 ) { vizElement.style.minWidth='420px';vizElement.style.maxWidth='1250px';vizElement.style.width='100%';vizElement.style.minHeight='587px';vizElement.style.maxHeight='887px';vizElement.style.height=(divElement.offsetWidth*0.75)+'px';} else if ( divElement.offsetWidth > 500 ) { vizElement.style.minWidth='420px';vizElement.style.maxWidth='1250px';vizElement.style.width='100%';vizElement.style.minHeight='587px';vizElement.style.maxHeight='887px';vizElement.style.height=(divElement.offsetWidth*0.75)+'px';} else { vizElement.style.width='100%';vizElement.style.height='727px';}                     var scriptElement = document.createElement('script');                    scriptElement.src = 'https://public.tableau.com/javascripts/api/viz_v1.js';                    vizElement.parentNode.insertBefore(scriptElement, vizElement);                </script>"
   ]
  },
  {
   "cell_type": "markdown",
   "metadata": {},
   "source": [
    "## Comentarios sobre los valores cualitativos:\n",
    "\n",
    "- Mejores reputaciones: diplomados en Big Data y Businnes Analytics\n",
    "- Mejor grado de búsquedas en línea: Businnes Analytics\n",
    "- Mejor grado de búsquedas en línea (online): diplomados en Big Data y Businnes Analytics, y maestría en Estrategia Cuantitativa.\n",
    "- Tendencias en crecimiento de búsquedas modalidad online:\n",
    "    - Últimos 6 meses: diplomado en Big Data y Businnes Intelligence, y maestría en Estrategia Cuantitativa.\n",
    "    - Últimos 3 meses: maestría en Estrategia Cuantitativa."
   ]
  },
  {
   "cell_type": "markdown",
   "metadata": {},
   "source": [
    "#### Conclusiones"
   ]
  },
  {
   "cell_type": "markdown",
   "metadata": {},
   "source": [
    "El diplomado en **Businnes Analytics** es el que tiene mejor comprtamiento en _reputación_ y _búsquedas_ tanto presencial como online, sin embargo, su tendencia en los últimos 3 meses esta a la baja. Y genera un contraste grande porque su tendencia en los últimos 6 meses era en crecimiento, y el hecho de que cambiara directamente a baja, significa que los consumidores estan cambiando sus preferencias rápido."
   ]
  },
  {
   "cell_type": "markdown",
   "metadata": {},
   "source": [
    "El diplomado en **Big Data** esta entre los mejores en _reputación_ y _búsquedas en modalidad online_ , así como en tendencia de los últimos 6 meses, sin embargo, tu los últimos 3 meses su tendencia no ha sido estable. Aun así, creo que en cuanto a temas cualitativos, es un programa que puede ser considerado. Voy a esperar a las observaciones cuantitativas antes de tomar la desición."
   ]
  },
  {
   "cell_type": "markdown",
   "metadata": {},
   "source": [
    "Sin duda alguna, con base a la información cualitativa, la maestría en **Estrategia Cuantitativa** es un programa con potencial ya que esta entre los más _buscados en modalidad online_ y su _tendencia_ ha estado en crecimiento en los últimos 6 y 3 meses. De igual manera, necesito esperar a ver los datos cuantitativos para confirmarlo."
   ]
  },
  {
   "cell_type": "markdown",
   "metadata": {},
   "source": [
    "---"
   ]
  },
  {
   "cell_type": "markdown",
   "metadata": {},
   "source": [
    "## Comentarios sobre los valores cuantitativos:\n",
    "- Mayor número de materias: maestría en Ciencia de Datos y Estrategia Cuantitativa.\n",
    "- Mayor precio por materia: diplomado en Businnes Intelligence y maestria en Estrategia Cuantitativa.\n",
    "    - Nota: diplomado en Big Data y maestría en Ciencia de Datos estan 2k menos que las anteriores.\n",
    "- Estudiantes:\n",
    "    - Diplomado en Businnes Analytics: ya existen muchos estudiantes cursando actualmente, en programas similares y graduados.\n",
    "    - Diplomado en Big Data: muchos en programas similares, y pocos cursando actualmente y graduados.\n",
    "    - Diplomado en Businnes Intelligence: conte bajo en las 3 categorías.\n",
    "    - Maestría en Ciencia de Datos: pocos en programas similares y graduados, y muchos cursando actualmente.\n",
    "    - Maestría en Estrategia Cuantitativa: conteo bajo en las 3 categorías.\n",
    "- Competidores:\n",
    "    - Menor número de competidores directos: diplomado en Big Data, y maestrías en Ciencia de Datos y Estrategia Cuantitativa.\n",
    "    - Menor número de competidores en general: diplomado en Businnes Intelligence y maestría en Estrategia Cuantitativa.\n",
    "- Porcentaje de alumnos titulados: todos tienen un mismo comportamiento.\n",
    "- Mayor número de vacantes: diplomado en Businnes Analytics, y maestrías en Ciencia de Datos y Estrategia Cuantitativa."
   ]
  },
  {
   "cell_type": "markdown",
   "metadata": {},
   "source": [
    "#### Conclusiones"
   ]
  },
  {
   "cell_type": "markdown",
   "metadata": {},
   "source": [
    "Aca se reitera que la maestría de **Estrategia Cuantitativa** es un programa con potencial para venderse, ya que esta entre los programas con más _materias_ , mayor _precio por materia_ , menor número de _competidores_ tanto directos como en general, y un mayor número de _vacantes_ en la bolsa de trabajo. +"
   ]
  },
  {
   "cell_type": "markdown",
   "metadata": {},
   "source": [
    "El diplomado en **Big Data** tiene una evaluación negativa en cuanto a valores cuantitativos. Hay puntos rescatables pero no son suficientes para que el programa sea elegible. Voy a ver si en el \"Número de materias que comparten\" y \"Grado de intersección de la audiencia\" tienen puntos a su favor, antes de descartarlo. -+"
   ]
  },
  {
   "cell_type": "markdown",
   "metadata": {},
   "source": [
    "En cuanto al diplomado en **Businnes Analytics**, las variables cuantitativas demuestran que, aunque tiene el mayor número de vacantes, este programa tiene muchos _competidores_ tanto directos como en general, ya tiene muchos _estudiantes_ tanto historicamente, actualmente y en programas similares, y no esta entre el mayor _número y precio de materias_. -"
   ]
  },
  {
   "cell_type": "markdown",
   "metadata": {},
   "source": [
    "---"
   ]
  },
  {
   "cell_type": "markdown",
   "metadata": {},
   "source": [
    "## Análisis final\n",
    "Ahora que ya tengo un análisis de los programas con base a los valores cualitativos y cuantitativos, voy a usar la información de Grado de intersección y Número de materias que comparten para hacer mi recomendación."
   ]
  },
  {
   "cell_type": "markdown",
   "metadata": {},
   "source": [
    "#### Número de materias que comparten los programas"
   ]
  },
  {
   "cell_type": "code",
   "execution_count": 11,
   "metadata": {
    "scrolled": true
   },
   "outputs": [
    {
     "data": {
      "text/html": [
       "<div>\n",
       "<style scoped>\n",
       "    .dataframe tbody tr th:only-of-type {\n",
       "        vertical-align: middle;\n",
       "    }\n",
       "\n",
       "    .dataframe tbody tr th {\n",
       "        vertical-align: top;\n",
       "    }\n",
       "\n",
       "    .dataframe thead th {\n",
       "        text-align: right;\n",
       "    }\n",
       "</style>\n",
       "<table border=\"1\" class=\"dataframe\">\n",
       "  <thead>\n",
       "    <tr style=\"text-align: right;\">\n",
       "      <th></th>\n",
       "      <th>Diplomado en Big Data</th>\n",
       "      <th>Diplomado en Business Intelligence</th>\n",
       "      <th>Maestria en Ciencias de Datos</th>\n",
       "      <th>Diplomado en Business Analytics</th>\n",
       "      <th>Maestria en Estrategia Cuantitativa</th>\n",
       "    </tr>\n",
       "  </thead>\n",
       "  <tbody>\n",
       "    <tr>\n",
       "      <th>Diplomado en Big Data</th>\n",
       "      <td>5</td>\n",
       "      <td>2</td>\n",
       "      <td>2</td>\n",
       "      <td>0</td>\n",
       "      <td>3</td>\n",
       "    </tr>\n",
       "    <tr>\n",
       "      <th>Diplomado en Business Intelligence</th>\n",
       "      <td>2</td>\n",
       "      <td>5</td>\n",
       "      <td>3</td>\n",
       "      <td>1</td>\n",
       "      <td>2</td>\n",
       "    </tr>\n",
       "    <tr>\n",
       "      <th>Maestria en Ciencias de Datos</th>\n",
       "      <td>2</td>\n",
       "      <td>3</td>\n",
       "      <td>18</td>\n",
       "      <td>4</td>\n",
       "      <td>2</td>\n",
       "    </tr>\n",
       "    <tr>\n",
       "      <th>Diplomado en Business Analytics</th>\n",
       "      <td>0</td>\n",
       "      <td>1</td>\n",
       "      <td>4</td>\n",
       "      <td>5</td>\n",
       "      <td>5</td>\n",
       "    </tr>\n",
       "    <tr>\n",
       "      <th>Maestria en Estrategia Cuantitativa</th>\n",
       "      <td>3</td>\n",
       "      <td>2</td>\n",
       "      <td>2</td>\n",
       "      <td>5</td>\n",
       "      <td>18</td>\n",
       "    </tr>\n",
       "  </tbody>\n",
       "</table>\n",
       "</div>"
      ],
      "text/plain": [
       "                                     Diplomado en Big Data  \\\n",
       "Diplomado en Big Data                                    5   \n",
       "Diplomado en Business Intelligence                       2   \n",
       "Maestria en Ciencias de Datos                            2   \n",
       "Diplomado en Business Analytics                          0   \n",
       "Maestria en Estrategia Cuantitativa                      3   \n",
       "\n",
       "                                     Diplomado en Business Intelligence  \\\n",
       "Diplomado en Big Data                                                 2   \n",
       "Diplomado en Business Intelligence                                    5   \n",
       "Maestria en Ciencias de Datos                                         3   \n",
       "Diplomado en Business Analytics                                       1   \n",
       "Maestria en Estrategia Cuantitativa                                   2   \n",
       "\n",
       "                                     Maestria en Ciencias de Datos  \\\n",
       "Diplomado en Big Data                                            2   \n",
       "Diplomado en Business Intelligence                               3   \n",
       "Maestria en Ciencias de Datos                                   18   \n",
       "Diplomado en Business Analytics                                  4   \n",
       "Maestria en Estrategia Cuantitativa                              2   \n",
       "\n",
       "                                     Diplomado en Business Analytics  \\\n",
       "Diplomado en Big Data                                              0   \n",
       "Diplomado en Business Intelligence                                 1   \n",
       "Maestria en Ciencias de Datos                                      4   \n",
       "Diplomado en Business Analytics                                    5   \n",
       "Maestria en Estrategia Cuantitativa                                5   \n",
       "\n",
       "                                     Maestria en Estrategia Cuantitativa  \n",
       "Diplomado en Big Data                                                  3  \n",
       "Diplomado en Business Intelligence                                     2  \n",
       "Maestria en Ciencias de Datos                                          2  \n",
       "Diplomado en Business Analytics                                        5  \n",
       "Maestria en Estrategia Cuantitativa                                   18  "
      ]
     },
     "execution_count": 11,
     "metadata": {},
     "output_type": "execute_result"
    }
   ],
   "source": [
    "materias_comparten=pd.read_excel('C:/Users/luisf/Documents/Python Projects/APLatam/Diagnostico de capacidades analiticas.xlsx', \\\n",
    "                sheet_name = 2, header = 25, nrows=5,index_col=1)\n",
    "materias_comparten=materias_comparten.drop(columns='Unnamed: 0')\n",
    "materias_comparten"
   ]
  },
  {
   "cell_type": "markdown",
   "metadata": {},
   "source": [
    "#### Grado de intersección de la audiencia"
   ]
  },
  {
   "cell_type": "code",
   "execution_count": 18,
   "metadata": {},
   "outputs": [
    {
     "data": {
      "text/html": [
       "<div>\n",
       "<style scoped>\n",
       "    .dataframe tbody tr th:only-of-type {\n",
       "        vertical-align: middle;\n",
       "    }\n",
       "\n",
       "    .dataframe tbody tr th {\n",
       "        vertical-align: top;\n",
       "    }\n",
       "\n",
       "    .dataframe thead th {\n",
       "        text-align: right;\n",
       "    }\n",
       "</style>\n",
       "<table border=\"1\" class=\"dataframe\">\n",
       "  <thead>\n",
       "    <tr style=\"text-align: right;\">\n",
       "      <th></th>\n",
       "      <th>Diplomado en Big Data</th>\n",
       "      <th>Diplomado en Business Intelligence</th>\n",
       "      <th>Maestria en Ciencias de Datos</th>\n",
       "      <th>Diplomado en Business Analytics</th>\n",
       "      <th>Maestria en Estrategia Cuantitativa</th>\n",
       "    </tr>\n",
       "  </thead>\n",
       "  <tbody>\n",
       "    <tr>\n",
       "      <th>Diplomado en Big Data</th>\n",
       "      <td>1.00</td>\n",
       "      <td>0.15</td>\n",
       "      <td>0.3</td>\n",
       "      <td>0.4</td>\n",
       "      <td>0.1</td>\n",
       "    </tr>\n",
       "    <tr>\n",
       "      <th>Diplomado en Business Intelligence</th>\n",
       "      <td>0.15</td>\n",
       "      <td>1.00</td>\n",
       "      <td>0.3</td>\n",
       "      <td>0.6</td>\n",
       "      <td>0.2</td>\n",
       "    </tr>\n",
       "    <tr>\n",
       "      <th>Maestria en Ciencias de Datos</th>\n",
       "      <td>0.30</td>\n",
       "      <td>0.30</td>\n",
       "      <td>1.0</td>\n",
       "      <td>0.2</td>\n",
       "      <td>0.1</td>\n",
       "    </tr>\n",
       "    <tr>\n",
       "      <th>Diplomado en Business Analytics</th>\n",
       "      <td>0.40</td>\n",
       "      <td>0.60</td>\n",
       "      <td>0.2</td>\n",
       "      <td>1.0</td>\n",
       "      <td>0.8</td>\n",
       "    </tr>\n",
       "    <tr>\n",
       "      <th>Maestria en Estrategia Cuantitativa</th>\n",
       "      <td>0.10</td>\n",
       "      <td>0.20</td>\n",
       "      <td>0.1</td>\n",
       "      <td>0.8</td>\n",
       "      <td>1.0</td>\n",
       "    </tr>\n",
       "  </tbody>\n",
       "</table>\n",
       "</div>"
      ],
      "text/plain": [
       "                                     Diplomado en Big Data  \\\n",
       "Diplomado en Big Data                                 1.00   \n",
       "Diplomado en Business Intelligence                    0.15   \n",
       "Maestria en Ciencias de Datos                         0.30   \n",
       "Diplomado en Business Analytics                       0.40   \n",
       "Maestria en Estrategia Cuantitativa                   0.10   \n",
       "\n",
       "                                     Diplomado en Business Intelligence  \\\n",
       "Diplomado en Big Data                                              0.15   \n",
       "Diplomado en Business Intelligence                                 1.00   \n",
       "Maestria en Ciencias de Datos                                      0.30   \n",
       "Diplomado en Business Analytics                                    0.60   \n",
       "Maestria en Estrategia Cuantitativa                                0.20   \n",
       "\n",
       "                                     Maestria en Ciencias de Datos  \\\n",
       "Diplomado en Big Data                                          0.3   \n",
       "Diplomado en Business Intelligence                             0.3   \n",
       "Maestria en Ciencias de Datos                                  1.0   \n",
       "Diplomado en Business Analytics                                0.2   \n",
       "Maestria en Estrategia Cuantitativa                            0.1   \n",
       "\n",
       "                                     Diplomado en Business Analytics  \\\n",
       "Diplomado en Big Data                                            0.4   \n",
       "Diplomado en Business Intelligence                               0.6   \n",
       "Maestria en Ciencias de Datos                                    0.2   \n",
       "Diplomado en Business Analytics                                  1.0   \n",
       "Maestria en Estrategia Cuantitativa                              0.8   \n",
       "\n",
       "                                     Maestria en Estrategia Cuantitativa  \n",
       "Diplomado en Big Data                                                0.1  \n",
       "Diplomado en Business Intelligence                                   0.2  \n",
       "Maestria en Ciencias de Datos                                        0.1  \n",
       "Diplomado en Business Analytics                                      0.8  \n",
       "Maestria en Estrategia Cuantitativa                                  1.0  "
      ]
     },
     "execution_count": 18,
     "metadata": {},
     "output_type": "execute_result"
    }
   ],
   "source": [
    "audiencia=pd.read_excel('C:/Users/luisf/Documents/Python Projects/APLatam/Diagnostico de capacidades analiticas.xlsx', \\\n",
    "                sheet_name = 2, header = 33, nrows=5,index_col=1)\n",
    "audiencia=audiencia.drop(columns='Unnamed: 0')\n",
    "audiencia"
   ]
  },
  {
   "cell_type": "markdown",
   "metadata": {},
   "source": [
    "La maestría en **Estrategia Cuantitativa** tiene mayor afinidad con el diplomado en **Business Analytics**, sin embargo, no creo que esta métrica sea lo suficientemente significativa para omitir los puntos negativos que tiene en los valores cuantitativos y cualitativos.\n",
    "\n",
    "Y en cuanto a el diplomado en **Big Data**, que era uno de los programas con potencial, acá no veo alguna afinidad que permita lanzarlo junto con la maestría en Estrategia Cuantitativa."
   ]
  },
  {
   "cell_type": "markdown",
   "metadata": {},
   "source": [
    "---"
   ]
  },
  {
   "cell_type": "markdown",
   "metadata": {},
   "source": [
    "Por lo tanto, el único programa que recomendaría lanzar es la **Maestría en Estrategia Cuantitativa**, ya que tiene las mejores observaciones en temas cualitativos y una oportunidad grande en cuanto a temas cuantitativos."
   ]
  }
 ],
 "metadata": {
  "kernelspec": {
   "display_name": "Python 3",
   "language": "python",
   "name": "python3"
  },
  "language_info": {
   "codemirror_mode": {
    "name": "ipython",
    "version": 3
   },
   "file_extension": ".py",
   "mimetype": "text/x-python",
   "name": "python",
   "nbconvert_exporter": "python",
   "pygments_lexer": "ipython3",
   "version": "3.7.3"
  }
 },
 "nbformat": 4,
 "nbformat_minor": 2
}
